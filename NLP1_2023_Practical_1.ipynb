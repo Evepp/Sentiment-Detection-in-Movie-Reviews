{
  "cells": [
    {
      "cell_type": "markdown",
      "metadata": {
        "id": "1-aRiOgl4nHg"
      },
      "source": [
        "------\n",
        "**You cannot save any changes you make to this file, so please make sure to save it on your Google Colab drive or download it as a .ipynb file.**\n",
        "\n",
        "------\n",
        "\n"
      ]
    },
    {
      "cell_type": "markdown",
      "metadata": {
        "id": "lIZrAUx57vsM"
      },
      "source": [
        "Practical 1: Sentiment Detection in Movie Reviews\n",
        "========================================\n",
        "\n"
      ]
    },
    {
      "cell_type": "markdown",
      "metadata": {
        "id": "J4kXPMhyngZW"
      },
      "source": [
        "This practical concerns detecting sentiment in movie reviews. This is a typical NLP classification task.\n",
        "In [this file](https://gist.githubusercontent.com/bastings/d47423301cca214e3930061a5a75e177/raw/5113687382919e22b1f09ce71a8fecd1687a5760/reviews.json) (80MB) you will find 1000 positive and 1000 negative **movie reviews**.\n",
        "Each review is a **document** and consists of one or more sentences.\n",
        "\n",
        "To prepare yourself for this practical, you should\n",
        "have a look at a few of these texts to understand the difficulties of\n",
        "the task: how might one go about classifying the texts? You will write\n",
        "code that decides whether a movie review conveys positive or\n",
        "negative sentiment.\n",
        "\n",
        "Please make sure you have read the following paper:\n",
        "\n",
        ">   Bo Pang, Lillian Lee, and Shivakumar Vaithyanathan\n",
        "(2002).\n",
        "[Thumbs up? Sentiment Classification using Machine Learning\n",
        "Techniques](https://dl.acm.org/citation.cfm?id=1118704). EMNLP.\n",
        "\n",
        "Bo Pang et al. introduced the movie review sentiment\n",
        "classification task, and the above paper was one of the first papers on\n",
        "the topic. The first version of your sentiment classifier will do\n",
        "something similar to Pang et al.'s system. If you have questions about it,\n",
        "you should resolve you doubts as soon as possible with your TA.\n"
      ]
    },
    {
      "cell_type": "markdown",
      "metadata": {
        "id": "cb7errgRASzZ"
      },
      "source": [
        "**Advice**\n",
        "\n",
        "Please read through the entire practical and familiarise\n",
        "yourself with all requirements before you start coding or otherwise\n",
        "solving the tasks. Writing clean and concise code can make the difference\n",
        "between solving the assignment in a matter of hours, and taking days to\n",
        "run all experiments.\n",
        "\n",
        "\n",
        "**Implementation**\n",
        "\n",
        "While we inserted code cells to indicate where you should implement your own code, please feel free to add/remove code blocks where you see fit (but make sure that the general structure of the assignment is preserved). Also, please keep in mind that it is always good practice to structure your code properly, e.g., by implementing separate classes and functions that can be reused.\n",
        "\n",
        "## Environment\n",
        "\n",
        "All code should be written in **Python 3**.\n",
        "This is the default in Google Colab."
      ]
    },
    {
      "cell_type": "code",
      "execution_count": null,
      "metadata": {
        "colab": {
          "base_uri": "https://localhost:8080/"
        },
        "id": "SaZnxptMJiD7",
        "outputId": "930aaa36-6b58-4e8d-bc98-afef70684e5c"
      },
      "outputs": [
        {
          "name": "stdout",
          "output_type": "stream",
          "text": [
            "Python 3.10.12\n"
          ]
        }
      ],
      "source": [
        "!python --version"
      ]
    },
    {
      "cell_type": "markdown",
      "metadata": {
        "id": "BYZyIF7lJnGn"
      },
      "source": [
        "If you want to run code on your own computer, then download this notebook through `File -> Download .ipynb`.\n",
        "The easiest way to\n",
        "install Python is through downloading\n",
        "[Anaconda](https://www.anaconda.com/download).\n",
        "After installation, you can start the notebook by typing `jupyter notebook filename.ipynb`.\n",
        "You can also use an IDE\n",
        "such as [PyCharm](https://www.jetbrains.com/pycharm/download/) to make\n",
        "coding and debugging easier. It is good practice to create a [virtual\n",
        "environment](https://docs.python.org/3/tutorial/venv.html) for this\n",
        "project, so that any Python packages don’t interfere with other\n",
        "projects.\n",
        "\n",
        "\n",
        "**Learning Python 3**\n",
        "\n",
        "If you are new to Python 3, you may want to check out a few of these resources:\n",
        "- https://learnxinyminutes.com/docs/python3/\n",
        "- https://www.learnpython.org/\n",
        "- https://docs.python.org/3/tutorial/"
      ]
    },
    {
      "cell_type": "code",
      "execution_count": null,
      "metadata": {
        "id": "hok-BFu9lGoK"
      },
      "outputs": [],
      "source": [
        "import math\n",
        "import os\n",
        "import sys\n",
        "from subprocess import call\n",
        "from nltk import FreqDist\n",
        "from nltk.util import ngrams\n",
        "from nltk.stem.porter import PorterStemmer\n",
        "import sklearn as sk\n",
        "from google.colab import drive\n",
        "import pickle\n",
        "import json\n",
        "from collections import Counter\n",
        "import requests\n",
        "import matplotlib.pyplot as plt\n",
        "import numpy as np"
      ]
    },
    {
      "cell_type": "markdown",
      "metadata": {
        "id": "bXWyGHwE-ieQ"
      },
      "source": [
        "## Loading the data\n",
        "\n",
        "**Download the sentiment lexicon and the movie reviews dataset.**"
      ]
    },
    {
      "cell_type": "code",
      "execution_count": null,
      "metadata": {
        "colab": {
          "base_uri": "https://localhost:8080/"
        },
        "id": "lm-rakqtlMOT",
        "outputId": "c95d7eaa-6160-4e66-b17f-7472e321774d"
      },
      "outputs": [
        {
          "name": "stdout",
          "output_type": "stream",
          "text": [
            "--2023-11-15 16:07:44--  https://gist.githubusercontent.com/bastings/d6f99dcb6c82231b94b013031356ba05/raw/f80a0281eba8621b122012c89c8b5e2200b39fd6/sent_lexicon\n",
            "Resolving gist.githubusercontent.com (gist.githubusercontent.com)... 185.199.110.133, 185.199.109.133, 185.199.111.133, ...\n",
            "Connecting to gist.githubusercontent.com (gist.githubusercontent.com)|185.199.110.133|:443... connected.\n",
            "HTTP request sent, awaiting response... 200 OK\n",
            "Length: 662577 (647K) [text/plain]\n",
            "Saving to: ‘sent_lexicon’\n",
            "\n",
            "\rsent_lexicon          0%[                    ]       0  --.-KB/s               \rsent_lexicon        100%[===================>] 647.05K  --.-KB/s    in 0.03s   \n",
            "\n",
            "2023-11-15 16:07:45 (23.5 MB/s) - ‘sent_lexicon’ saved [662577/662577]\n",
            "\n",
            "--2023-11-15 16:07:45--  https://gist.githubusercontent.com/bastings/d47423301cca214e3930061a5a75e177/raw/5113687382919e22b1f09ce71a8fecd1687a5760/reviews.json\n",
            "Resolving gist.githubusercontent.com (gist.githubusercontent.com)... 185.199.108.133, 185.199.109.133, 185.199.110.133, ...\n",
            "Connecting to gist.githubusercontent.com (gist.githubusercontent.com)|185.199.108.133|:443... connected.\n",
            "HTTP request sent, awaiting response... 200 OK\n",
            "Length: 83503869 (80M) [text/plain]\n",
            "Saving to: ‘reviews.json’\n",
            "\n",
            "reviews.json        100%[===================>]  79.63M   188MB/s    in 0.4s    \n",
            "\n",
            "2023-11-15 16:07:45 (188 MB/s) - ‘reviews.json’ saved [83503869/83503869]\n",
            "\n"
          ]
        }
      ],
      "source": [
        "# download sentiment lexicon\n",
        "!wget https://gist.githubusercontent.com/bastings/d6f99dcb6c82231b94b013031356ba05/raw/f80a0281eba8621b122012c89c8b5e2200b39fd6/sent_lexicon\n",
        "# download review data\n",
        "!wget https://gist.githubusercontent.com/bastings/d47423301cca214e3930061a5a75e177/raw/5113687382919e22b1f09ce71a8fecd1687a5760/reviews.json"
      ]
    },
    {
      "cell_type": "markdown",
      "metadata": {
        "id": "AkPwuHp5LSuQ"
      },
      "source": [
        "**Load the movie reviews.**\n",
        "\n",
        "Each word in a review comes with its part-of-speech tag. For documentation on POS-tags, see https://catalog.ldc.upenn.edu/docs/LDC99T42/tagguid1.pdf.\n"
      ]
    },
    {
      "cell_type": "code",
      "execution_count": null,
      "metadata": {
        "colab": {
          "base_uri": "https://localhost:8080/"
        },
        "id": "careEKj-mRpl",
        "outputId": "00458d93-56d6-4d4d-dda3-57471923b335"
      },
      "outputs": [
        {
          "name": "stdout",
          "output_type": "stream",
          "text": [
            "Total number of reviews: 2000 \n",
            "\n",
            "0 NEG 29\n",
            "Two/CD teen/JJ couples/NNS go/VBP to/TO a/DT church/NN party/NN ,/, drink/NN and/CC then/RB drive/NN ./.\n",
            "1 NEG 11\n",
            "Damn/JJ that/IN Y2K/CD bug/NN ./.\n",
            "2 NEG 24\n",
            "It/PRP is/VBZ movies/NNS like/IN these/DT that/WDT make/VBP a/DT jaded/JJ movie/NN viewer/NN thankful/JJ for/IN the/DT invention/NN of/IN the/DT Timex/NNP IndiGlo/NNP watch/NN ./.\n",
            "3 NEG 19\n",
            "QUEST/NN FOR/IN CAMELOT/NNP ``/`` Quest/NNP for/IN Camelot/NNP ''/'' is/VBZ Warner/NNP Bros./NNP '/POS first/JJ feature-length/JJ ,/, fully-animated/JJ attempt/NN to/TO steal/VB clout/NN from/IN Disney/NNP 's/POS cartoon/NN empire/NN ,/, but/CC the/DT mouse/NN has/VBZ no/DT reason/NN to/TO be/VB worried/VBN ./.\n",
            "4 NEG 38\n",
            "Synopsis/NNPS :/: A/DT mentally/RB unstable/JJ man/NN undergoing/VBG psychotherapy/NN saves/VBZ a/DT boy/NN from/IN a/DT potentially/RB fatal/JJ accident/NN and/CC then/RB falls/VBZ in/IN love/NN with/IN the/DT boy/NN 's/POS mother/NN ,/, a/DT fledgling/NN restauranteur/NN ./.\n",
            "\n",
            "Number of word types: 47743\n",
            "Number of word tokens: 1512359\n",
            "\n",
            "Most common tokens:\n",
            "         , :    77842\n",
            "       the :    75948\n",
            "         . :    59027\n",
            "         a :    37583\n",
            "       and :    35235\n",
            "        of :    33864\n",
            "        to :    31601\n",
            "        is :    25972\n",
            "        in :    21563\n",
            "        's :    18043\n",
            "        it :    15904\n",
            "      that :    15820\n",
            "     -rrb- :    11768\n",
            "     -lrb- :    11670\n",
            "        as :    11312\n",
            "      with :    10739\n",
            "       for :     9816\n",
            "       his :     9542\n",
            "      this :     9497\n",
            "      film :     9404\n"
          ]
        }
      ],
      "source": [
        "# file structure:\n",
        "# [\n",
        "#  {\"cv\": integer, \"sentiment\": str, \"content\": list}\n",
        "#  {\"cv\": integer, \"sentiment\": str, \"content\": list}\n",
        "#   ..\n",
        "# ]\n",
        "# where `content` is a list of sentences,\n",
        "# with a sentence being a list of (token, pos_tag) pairs.\n",
        "\n",
        "\n",
        "with open(\"reviews.json\", mode=\"r\", encoding=\"utf-8\") as f:\n",
        "  reviews = json.load(f)\n",
        "\n",
        "print(\"Total number of reviews:\", len(reviews), '\\n')\n",
        "\n",
        "def print_sentence_with_pos(s):\n",
        "  print(\" \".join(\"%s/%s\" % (token, pos_tag) for token, pos_tag in s))\n",
        "\n",
        "for i, r in enumerate(reviews):\n",
        "  print(r[\"cv\"], r[\"sentiment\"], len(r[\"content\"]))  # cv, sentiment, num sents\n",
        "  print_sentence_with_pos(r[\"content\"][0])\n",
        "  if i == 4:\n",
        "    break\n",
        "\n",
        "c = Counter()\n",
        "for review in reviews:\n",
        "  for sentence in review[\"content\"]:\n",
        "    for token, pos_tag in sentence:\n",
        "      c[token.lower()] += 1\n",
        "\n",
        "print(\"\\nNumber of word types:\", len(c))\n",
        "print(\"Number of word tokens:\", sum(c.values()))\n",
        "\n",
        "print(\"\\nMost common tokens:\")\n",
        "for token, count in c.most_common(20):\n",
        "  print(\"%10s : %8d\" % (token, count))\n"
      ]
    },
    {
      "cell_type": "markdown",
      "metadata": {
        "id": "E6PWaEoh8B34"
      },
      "source": [
        "#(1) Lexicon-based approach (3.5pts)\n",
        "\n"
      ]
    },
    {
      "cell_type": "markdown",
      "metadata": {
        "id": "JsTSMb6ma4E8"
      },
      "source": [
        "A traditional approach to classify documents according to their sentiment is the lexicon-based approach. To implement this approach, you need a **sentiment lexicon**, i.e., a list of words annotated with a sentiment label (e.g., positive and negative, or a score from 0 to 5).\n",
        "\n",
        "In this practical, you will use the sentiment\n",
        "lexicon released by Wilson et al. (2005).\n",
        "\n",
        "> Theresa Wilson, Janyce Wiebe, and Paul Hoffmann\n",
        "(2005). [Recognizing Contextual Polarity in Phrase-Level Sentiment\n",
        "Analysis](http://www.aclweb.org/anthology/H/H05/H05-1044.pdf). HLT-EMNLP.\n",
        "\n",
        "Pay attention to all the information available in the sentiment lexicon. The field *word1* contains the lemma, *priorpolarity* contains the sentiment label (positive, negative, both, or neutral), *type* gives you the magnitude of the word's sentiment (strong or weak), and *pos1* gives you the part-of-speech tag of the lemma. Some lemmas can have multiple part-of-speech tags and thus multiple entries in the lexicon. The path of the lexicon file is `\"sent_lexicon\"`.\n"
      ]
    },
    {
      "cell_type": "code",
      "execution_count": null,
      "metadata": {
        "colab": {
          "base_uri": "https://localhost:8080/"
        },
        "id": "Ogq0Eq2hQglh",
        "outputId": "cedb6480-07b3-4c1f-f059-25fe8ccdcc82"
      },
      "outputs": [
        {
          "name": "stdout",
          "output_type": "stream",
          "text": [
            "type=weaksubj len=1 word1=abandoned pos1=adj stemmed1=n priorpolarity=negative\n",
            "type=weaksubj len=1 word1=abandonment pos1=noun stemmed1=n priorpolarity=negative\n",
            "type=weaksubj len=1 word1=abandon pos1=verb stemmed1=y priorpolarity=negative\n",
            "type=strongsubj len=1 word1=abase pos1=verb stemmed1=y priorpolarity=negative\n",
            "type=strongsubj len=1 word1=abasement pos1=anypos stemmed1=y priorpolarity=negative\n"
          ]
        }
      ],
      "source": [
        "with open(\"sent_lexicon\", mode=\"r\", encoding=\"utf-8\") as f:\n",
        "  line_cnt = 0\n",
        "  for line in f:\n",
        "    print(line.strip())\n",
        "    line_cnt += 1\n",
        "    if line_cnt > 4:\n",
        "      break"
      ]
    },
    {
      "cell_type": "markdown",
      "metadata": {
        "id": "Mml4nOtIUBhn"
      },
      "source": [
        "Lexica such as this can be used to solve\n",
        "the classification task without using Machine Learning. For example, one might look up every word $w_1 ... w_n$ in a document, and compute a **binary score**\n",
        "$S_{binary}$ by counting how many words have a positive or a\n",
        "negative label in the sentiment lexicon $SLex$.\n",
        "\n",
        "$$S_{binary}(w_1 w_2 ... w_n) = \\sum_{i = 1}^{n}\\text{sign}(SLex\\big[w_i\\big])$$\n",
        "\n",
        "where $\\text{sign}(SLex\\big[w_i\\big])$ refers to the polarity of $w_i$.\n",
        "\n",
        "**Threshold.** On average, there are more positive than negative words per review (~7.13 more positive than negative per review) to take this bias into account you should use a threshold of **8** (roughly the bias itself) to make it harder to classify as positive.\n",
        "\n",
        "$$\n",
        "\\text{classify}(S_{binary}(w_1 w_2 ... w_n)) = \\bigg\\{\\begin{array}{ll}\n",
        "        \\text{positive} & \\text{if } S_{binary}(w_1w_2...w_n) > threshold\\\\\n",
        "        \\text{negative} & \\text{otherwise}\n",
        "        \\end{array}\n",
        "$$\n"
      ]
    },
    {
      "cell_type": "markdown",
      "metadata": {
        "id": "tOFnMvbeeZrc"
      },
      "source": [
        "#### (Q1.1) Implement this approach and report its classification accuracy. (1 pt)"
      ]
    },
    {
      "cell_type": "code",
      "execution_count": null,
      "metadata": {
        "id": "ED2aTEYutW1-"
      },
      "outputs": [],
      "source": [
        "# YOUR CODE HERE\n",
        "\n",
        "# loading sentiment lexicon of each word\n",
        "def load_sentiment_lexicon():\n",
        "  lexicon = {}\n",
        "  with open(\"sent_lexicon\", mode=\"r\", encoding=\"utf-8\") as f:\n",
        "    for line in f:\n",
        "      entries = line.strip().split()\n",
        "      word = entries[2].split('=')[1]\n",
        "      ppolarity = entries[5].split('=')[1]\n",
        "\n",
        "      if ppolarity == 'positive':\n",
        "        lexicon[word] = 1\n",
        "      elif ppolarity == 'negative':\n",
        "        lexicon[word] = -1\n",
        "\n",
        "    return lexicon\n",
        "\n",
        "\n",
        "# calculating binary_score of review\n",
        "def calculate_sentiment_score(review, lex, threshold):\n",
        "  bscore_rev = 0\n",
        "  for sentence in review[\"content\"]:\n",
        "    for token, pos_tag in sentence:\n",
        "      word = token.lower()\n",
        "      bscore_rev += lex.get(word, 0) # return 0 instead of None if word is not in lexicon\n",
        "\n",
        "  return 1 if bscore_rev > threshold else 0\n",
        "\n",
        "sent_lexicon = load_sentiment_lexicon()"
      ]
    },
    {
      "cell_type": "code",
      "execution_count": null,
      "metadata": {
        "colab": {
          "base_uri": "https://localhost:8080/"
        },
        "id": "iy528EUTphz5",
        "outputId": "63c018d6-2c47-4d7a-bcaa-388ea134dfa7"
      },
      "outputs": [
        {
          "name": "stdout",
          "output_type": "stream",
          "text": [
            "Accuracy: 0.68\n"
          ]
        }
      ],
      "source": [
        "# token_results should be a list of binary indicators; for example [1, 0, 1, ...]\n",
        "# where 1 indicates a correct classification and 0 an incorrect classification\n",
        "token_results = []\n",
        "binary_threshold = 8\n",
        "for review in reviews:\n",
        "  predicted_senti = calculate_sentiment_score(review, sent_lexicon, binary_threshold)\n",
        "  actual_senti = 1 if review['sentiment'] == 'POS' else 0\n",
        "\n",
        "  # compare predicted and true value\n",
        "  if predicted_senti == actual_senti:\n",
        "    token_results.append(1)\n",
        "  else:\n",
        "    token_results.append(0)\n",
        "\n",
        "token_accuracy = sum(token_results) / len(token_results)\n",
        "print(\"Accuracy: %0.2f\" % token_accuracy)"
      ]
    },
    {
      "cell_type": "markdown",
      "metadata": {
        "id": "Twox0s_3eS0V"
      },
      "source": [
        "As the sentiment lexicon also has information about the **magnitude** of\n",
        "sentiment (e.g., *“excellent\"* has the same sentiment _polarity_ as *“good\"* but it has a higher magnitude), we can take a more fine-grained approach by adding up all\n",
        "sentiment scores, and deciding the polarity of the movie review using\n",
        "the sign of the weighted score $S_{weighted}$.\n",
        "\n",
        "$$S_{weighted}(w_1w_2...w_n) = \\sum_{i = 1}^{n}SLex\\big[w_i\\big]$$\n",
        "\n",
        "\n",
        "Make sure you define an appropriate threshold for this approach.\n",
        "\n",
        "#### (Q1.2) Now incorporate magnitude information and report the classification accuracy. Don't forget to use the threshold. (1pt)"
      ]
    },
    {
      "cell_type": "code",
      "execution_count": null,
      "metadata": {
        "id": "qG3hUDnPtkhS"
      },
      "outputs": [],
      "source": [
        "# YOUR CODE HERE\n",
        "\n",
        "# same as before but updated with magnitude\n",
        "def load_sentiment_lexicon(use_magnitude=False):\n",
        "  lexicon = {}\n",
        "  with open(\"sent_lexicon\", mode=\"r\", encoding=\"utf-8\") as f:\n",
        "    for line in f:\n",
        "      entries = line.strip().split()\n",
        "      word = entries[2].split('=')[1]\n",
        "      ppolarity = entries[5].split('=')[1]\n",
        "      if use_magnitude:\n",
        "        type_strength = entries[0].split('=')[1]  # get magnitude\n",
        "        # determining weight based on the magnitude\n",
        "        if type_strength == 'strongsubj':\n",
        "          weight = 5\n",
        "        elif type_strength == 'weaksubj':\n",
        "          weight = 1\n",
        "      else:\n",
        "          weight = 1\n",
        "\n",
        "      if ppolarity == 'positive':\n",
        "        lexicon[word] = weight\n",
        "      elif ppolarity == 'negative':\n",
        "        lexicon[word] = -1 * weight\n",
        "\n",
        "    return lexicon\n",
        "\n",
        "sent_lexicon = load_sentiment_lexicon(use_magnitude=True)"
      ]
    },
    {
      "cell_type": "code",
      "execution_count": null,
      "metadata": {
        "colab": {
          "base_uri": "https://localhost:8080/"
        },
        "id": "9vVk7CvDpyka",
        "outputId": "2144cb2a-ea4e-45bb-9f2a-5f43e2c39fd5"
      },
      "outputs": [
        {
          "name": "stdout",
          "output_type": "stream",
          "text": [
            "Accuracy: 0.70\n"
          ]
        }
      ],
      "source": [
        "magnitude_results = [] # a list of binary indicators\n",
        "magnitude_threshold = 18\n",
        "for review in reviews:\n",
        "  predicted_senti = calculate_sentiment_score(review, sent_lexicon, magnitude_threshold)\n",
        "  actual_senti = 1 if review['sentiment'] == 'POS' else 0\n",
        "\n",
        "  # comparing predicted and true value\n",
        "  if predicted_senti == actual_senti:\n",
        "    magnitude_results.append(1)\n",
        "  else:\n",
        "    magnitude_results.append(0)\n",
        "\n",
        "magnitude_accuracy = sum(magnitude_results) / len(magnitude_results)\n",
        "print(\"Accuracy: %0.2f\" % magnitude_accuracy)"
      ]
    },
    {
      "cell_type": "markdown",
      "metadata": {
        "id": "h9SHoGPfsAHV"
      },
      "source": [
        "#### (Q.1.3) Make a barplot of the two results (0.5pt)"
      ]
    },
    {
      "cell_type": "code",
      "execution_count": null,
      "metadata": {
        "colab": {
          "base_uri": "https://localhost:8080/",
          "height": 452
        },
        "id": "8LgBcYcXsEk3",
        "outputId": "0037b01d-0a47-4d6c-d916-a21e34a770b6"
      },
      "outputs": [
        {
          "data": {
            "image/png": "[encoded data removed]",
            "text/plain": [
              "<Figure size 640x480 with 1 Axes>"
            ]
          },
          "metadata": {},
          "output_type": "display_data"
        }
      ],
      "source": [
        "# YOUR CODE HERE\n",
        "\n",
        "plt.bar([\"binary\", \"magnitude\"], [token_accuracy, magnitude_accuracy])\n",
        "plt.title(\"Classification Accuracy (Lexicon-based Approach)\")\n",
        "plt.ylabel(\"Accuracy\")\n",
        "plt.show()"
      ]
    },
    {
      "cell_type": "markdown",
      "metadata": {
        "id": "sNhS8OCVxMHd"
      },
      "source": [
        "#### (Q1.4) A better threshold (1pt)\n",
        "Above we have defined a threshold to account for an inherent bias in the dataset: there are more positive than negative words per review.\n",
        "However, that threshold does not take into account *document length*. Explain why this is a problem and implement an alternative way to compute the threshold."
      ]
    },
    {
      "cell_type": "markdown",
      "metadata": {
        "id": "xo7gk1I-omLI"
      },
      "source": [
        "Using a fixed threshold doesn't take into account the document length. This can be problematic because a very long review would have more opportunities to include positive words not necessarily because it's expressing a stronger positive sentiment but because of its length. So if this long review is just long enough to pass the threshold, it would be classified as positive even if it might not be. This can result in longer reviews being classified as positive just because of their length, and not because of their sentiment. For example, a long review with 8 positive words out of 100 could be predicted as positive, even if the remaining words are negative (or neutral). Hence, instead of fixed threshold we could normalize the sentiment score by the length of the document. In other words, we can calculate the average sentiment per word. This will make the threshold adaptive to the length of the document."
      ]
    },
    {
      "cell_type": "code",
      "execution_count": null,
      "metadata": {
        "colab": {
          "base_uri": "https://localhost:8080/"
        },
        "id": "Dwt0B8h8aKjr",
        "outputId": "a0c2c22f-a5d3-46a3-a579-b963b47c5fde"
      },
      "outputs": [
        {
          "name": "stdout",
          "output_type": "stream",
          "text": [
            "Accuracy: 0.70\n"
          ]
        }
      ],
      "source": [
        "# YOUR CODE HERE\n",
        "\n",
        "# calculating normalized binary_score of review\n",
        "def calculate_sentiment_score(review, lex, threshold):\n",
        "  bscore_rev = 0\n",
        "  total_tokens = 0\n",
        "  for sentence in review[\"content\"]:\n",
        "    for token, pos_tag in sentence:\n",
        "      word = token.lower()\n",
        "      bscore_rev += lex.get(word, 0)\n",
        "      total_tokens += 1\n",
        "\n",
        "  # calculating average score per word\n",
        "  norm_score = bscore_rev / total_tokens\n",
        "  return 1 if norm_score > threshold else 0\n",
        "\n",
        "\n",
        "results = [] # a list of binary indicators\n",
        "threshold = 0.04\n",
        "for review in reviews:\n",
        "  predicted_senti = calculate_sentiment_score(review, sent_lexicon, threshold)\n",
        "  actual_senti = 1 if review['sentiment'] == 'POS' else 0\n",
        "  # comparing predicted and true value\n",
        "  if predicted_senti == actual_senti:\n",
        "    results.append(1)\n",
        "  else:\n",
        "    results.append(0)\n",
        "\n",
        "accuracy = sum(results) / len(results)\n",
        "print(\"Accuracy: %0.2f\" % accuracy)"
      ]
    },
    {
      "cell_type": "markdown",
      "metadata": {
        "id": "LibV4nR89BXb"
      },
      "source": [
        "# (2) Naive Bayes (9.5pts)"
      ]
    },
    {
      "cell_type": "markdown",
      "metadata": {
        "id": "fnF9adQnuwia"
      },
      "source": [
        "\n",
        "Your second task is to program a simple Machine Learning approach that operates\n",
        "on a simple Bag-of-Words (BoW) representation of the text data, as\n",
        "described by Pang et al. (2002). In this approach, the only features we\n",
        "will consider are the words in the text themselves, without bringing in\n",
        "external sources of information. The BoW model is a popular way of\n",
        "representing texts as vectors, making it\n",
        "easy to apply classical Machine Learning algorithms on NLP tasks.\n",
        "However, the BoW representation is also very crude, since it discards\n",
        "all information related to word order and grammatical structure in the\n",
        "original text—as the name suggests.\n",
        "\n",
        "## Writing your own classifier (4pts)\n",
        "\n",
        "Write your own code to implement the Naive Bayes (NB) classifier. As\n",
        "a reminder, the Naive Bayes classifier works according to the following\n",
        "equation:\n",
        "$$\\hat{c} = \\operatorname*{arg\\,max}_{c \\in C} P(c|\\bar{f}) = \\operatorname*{arg\\,max}_{c \\in C} P(c)\\prod^n_{i=1} P(f_i|c)$$\n",
        "where $C = \\{ \\text{POS}, \\text{NEG} \\}$ is the set of possible classes,\n",
        "$\\hat{c} \\in C$ is the most probable class, and $\\bar{f}$ is the feature\n",
        "vector. Remember that we use the log of these probabilities when making\n",
        "a prediction:\n",
        "$$\\hat{c} = \\operatorname*{arg\\,max}_{c \\in C} \\Big\\{\\log P(c) + \\sum^n_{i=1} \\log P(f_i|c)\\Big\\}$$\n",
        "\n",
        "You can find more details about Naive Bayes in [Jurafsky &\n",
        "Martin](https://web.stanford.edu/~jurafsky/slp3/). You can also look at\n",
        "this helpful\n",
        "[pseudo-code](https://nlp.stanford.edu/IR-book/html/htmledition/naive-bayes-text-classification-1.html).\n",
        "\n",
        "*Note: this section and the next aim to put you in a position to replicate\n",
        "    Pang et al.'s Naive Bayes results. However, your numerical results\n",
        "    will differ from theirs, as they used different data.*\n",
        "\n",
        "**You must write the Naive Bayes training and prediction code from\n",
        "scratch.** You will not be given credit for using off-the-shelf Machine\n",
        "Learning libraries.\n",
        "\n",
        "The data contains the text of the reviews, where each document consists\n",
        "of the sentences in the review, the sentiment of the review and an index\n",
        "(cv) that you will later use for cross-validation. The\n",
        "text has already been tokenised and POS-tagged for you. Your algorithm\n",
        "should read in the text, **lowercase it**, store the words and their\n",
        "frequencies in an appropriate data structure that allows for easy\n",
        "computation of the probabilities used in the Naive Bayes algorithm, and\n",
        "then make predictions for new instances.\n"
      ]
    },
    {
      "cell_type": "markdown",
      "metadata": {
        "id": "vEpyQSBSkb33"
      },
      "source": [
        "#### (Q2.1) Unseen words (1pt)\n",
        "The presence of words in the test dataset that\n",
        "have not been seen during training can cause probabilities in the Naive Bayes classifier to equal $0$.\n",
        "These can be words which are unseen in both positive and negative training reviews (case 1), but also words which are seen in reviews _of only one sentiment class_ in the training dataset (case 2). In both cases, **you should skip these words for both classes at test time**.  What would be the problem instead with skipping words only for one class in case 2?"
      ]
    },
    {
      "cell_type": "markdown",
      "metadata": {
        "id": "BanFiYYnoxDW"
      },
      "source": [
        "If a word only appears in one class during training and we don't skip it during testing, then this would lead to bias. NB classifier multiplies the individual probabilities of each word in a document and so, a probability of $0$ for any word would cause the probability of the document belonging to the class that did not include the word to become zero. Hence, the bias would be towards the class that contained the word during training since it won't get affected in the multiplication of probabilities. This could result in misclassification."
      ]
    },
    {
      "cell_type": "markdown",
      "metadata": {
        "id": "gsZRhaI3WvzC"
      },
      "source": [
        "#### (Q2.2) Train your classifier on (positive and negative) reviews with cv-value 000-899, and test it on the remaining (positive and negative) reviews cv900–cv999.  Report results using classification accuracy as your evaluation metric. Your  features are the word vocabulary. The value of a feature is the count of that feature (word) in the document. (2pts)\n"
      ]
    },
    {
      "cell_type": "code",
      "execution_count": null,
      "metadata": {
        "colab": {
          "base_uri": "https://localhost:8080/"
        },
        "id": "IjcN5YvmCoQ1",
        "outputId": "8e16f2f0-0a68-4dd0-c759-58bb6d27cc72"
      },
      "outputs": [
        {
          "name": "stdout",
          "output_type": "stream",
          "text": [
            "Accuracy: 0.82\n"
          ]
        }
      ],
      "source": [
        "# YOUR CODE HERE\n",
        "\n",
        "# computing prior P(c)\n",
        "def calc_prior_probs(doc_class_counts, total_docs):\n",
        "  priors = {}\n",
        "  for c in doc_class_counts:\n",
        "    priors[c] = math.log(doc_class_counts[c] / total_docs)\n",
        "\n",
        "  return priors\n",
        "\n",
        "# calculating conditional probs P(word|c)\n",
        "def calc_cond_probs(freqs, word_total, vocab):\n",
        "  cond_probs_POS = {}\n",
        "  cond_probs_NEG = {}\n",
        "\n",
        "  for word in vocab:\n",
        "    # overcoming issue of unseen words by\n",
        "    # skipping words that have frequency of 0 in either one of the classes\n",
        "    if freqs['POS'][word] == 0 or freqs['NEG'][word] == 0:\n",
        "      continue\n",
        "\n",
        "    if freqs['POS'][word] > 0:\n",
        "      word_freq_POS = freqs['POS'][word]\n",
        "      cond_probs_POS[word] = math.log(word_freq_POS / word_total['POS'])\n",
        "\n",
        "    if freqs['NEG'][word] > 0:\n",
        "      word_freq_NEG = freqs['NEG'][word]\n",
        "      cond_probs_NEG[word] = math.log(word_freq_NEG / word_total['NEG'])\n",
        "\n",
        "  return cond_probs_POS, cond_probs_NEG\n",
        "\n",
        "# predicting\n",
        "def classify_reviews(review, cond_probs, prior_probs):\n",
        "  results = {'POS': prior_probs['POS'], 'NEG': prior_probs['NEG']}\n",
        "\n",
        "  # for each word in a new review, adding the sum of the log probabs\n",
        "  for sentence in review['content']:\n",
        "    for token, post_tag in sentence:\n",
        "      word = token.lower()\n",
        "      # only ad  the log probs of word in it exists in both of the classes\n",
        "      if word in cond_probs['POS'] and word in cond_probs['NEG']:\n",
        "        results['POS'] += cond_probs['POS'].get(word, 0)\n",
        "        results['NEG'] += cond_probs['NEG'].get(word, 0)\n",
        "\n",
        "  # finding argmax of class\n",
        "  if results['POS'] > results['NEG']:\n",
        "    return 'POS'\n",
        "  else:\n",
        "    return 'NEG'\n",
        "\n",
        "# splitting data\n",
        "def split_data(reviews):\n",
        "  train_set = []\n",
        "  test_set = []\n",
        "  for review in reviews:\n",
        "    if review['cv'] < 900:\n",
        "      train_set.append(review)\n",
        "    else:\n",
        "      test_set.append(review)\n",
        "\n",
        "  return train_set, test_set\n",
        "\n",
        "def train(train_set):\n",
        "  # preprocessing and counting\n",
        "  vocab = set()\n",
        "  doc_class_count = {'POS': 0, 'NEG': 0}\n",
        "  word_class_count = {'POS': 0, 'NEG': 0}\n",
        "  word_freqs_class = {'POS': Counter(), 'NEG': Counter()}\n",
        "\n",
        "  for review in train_set:\n",
        "    doc_class_count[review['sentiment']] += 1\n",
        "    for sentence in review['content']:\n",
        "      for token, post_tag in sentence:\n",
        "        word = token.lower()\n",
        "        vocab.add(word)\n",
        "        word_freqs_class[review['sentiment']][word] += 1\n",
        "        word_class_count[review['sentiment']] += 1\n",
        "\n",
        "  # calculating the prior probabilities\n",
        "  total_doc_count = sum(doc_class_count.values())\n",
        "  log_prior_probs = calc_prior_probs(doc_class_count, total_doc_count)\n",
        "\n",
        "  # calculating the conditional probabilities\n",
        "  log_cond_probs_POS, log_cond_probs_NEG = calc_cond_probs(word_freqs_class, word_class_count, vocab)\n",
        "  log_cond_probs = {'POS': log_cond_probs_POS, 'NEG': log_cond_probs_NEG}\n",
        "\n",
        "  return vocab, log_prior_probs, log_cond_probs\n",
        "\n",
        "def test(test_set, vocab, log_prior_probs, log_cond_probs):\n",
        "  preds_correct_count = 0\n",
        "\n",
        "  for review in test_set:\n",
        "    predicted_class = classify_reviews(review, log_cond_probs, log_prior_probs)\n",
        "    true_class = review['sentiment']\n",
        "    if predicted_class == true_class:\n",
        "      preds_correct_count += 1\n",
        "\n",
        "  # computing accuracy\n",
        "  accuracy = preds_correct_count / len(test_set)\n",
        "  return accuracy\n",
        "\n",
        "\n",
        "train_set, test_set = split_data(reviews)\n",
        "vocab, log_prior_probs, log_cond_probs = train(train_set)\n",
        "accuracy = test(test_set, vocab, log_prior_probs, log_cond_probs)\n",
        "print(\"Accuracy: {:.2f}\".format(accuracy))"
      ]
    },
    {
      "cell_type": "markdown",
      "metadata": {
        "id": "0INK-PBoM6CB"
      },
      "source": [
        "#### (Q2.3) Would you consider accuracy to also be a good way to evaluate your classifier in a situation where 90% of your data instances are of positive movie reviews? (1pt)\n",
        "\n",
        "Simulate this scenario by keeping the positive reviews\n",
        "data unchanged, but only using negative reviews cv000–cv089 for\n",
        "training, and cv900–cv909 for testing. Calculate the classification\n",
        "accuracy, and explain what changed."
      ]
    },
    {
      "cell_type": "markdown",
      "metadata": {
        "id": "oFbcsYlipBAw"
      },
      "source": [
        "If 90% of the data instances are positive movie reviews, then we obtain significant class imbalance. In such case, the classifier might be biased towards the majority class (positive reviews), and so, accuracy would not be a fair performance measure since it doesn't account for the distribution of classes.\n",
        "\n",
        "In our simulated scenario below, where we reduced the number of negative reviews to match the imbalance, the classifier's accuracy reduced from 0.82 to 0.60. This may be the result of our classifier having less negative review examples to learn from, which reduces its ability to accurately identify negative sentiments. Despite the drop, an accuracy of 0.60 may still seem high. However, this is mainly because the test set in this case is heavily baised towards positive reviews. The classifier might be misclassifying many of the negative reviews.\n",
        "\n",
        "Hence, we should instead evaluate our model using other metrics/performance measures, such as but not limited to precision, recall, or the F1 score. These metrics are more balanced as they evaluate performance in terms of both classes."
      ]
    },
    {
      "cell_type": "code",
      "execution_count": null,
      "metadata": {
        "colab": {
          "base_uri": "https://localhost:8080/"
        },
        "id": "GWDkt5ZrrFGp",
        "outputId": "1d282c0b-3e9e-4e32-afb2-d553e778c7a7"
      },
      "outputs": [
        {
          "name": "stdout",
          "output_type": "stream",
          "text": [
            "Accuracy: 0.60\n"
          ]
        }
      ],
      "source": [
        "# splitting data - imbalanced scenario\n",
        "def split_data_imbalanced(reviews):\n",
        "  train_set = []\n",
        "  test_set = []\n",
        "  for review in reviews:\n",
        "    if review['cv'] < 900:\n",
        "      if review['sentiment'] == 'POS' or (review['sentiment'] == 'NEG' and review['cv'] < 90):\n",
        "        train_set.append(review)\n",
        "    else:\n",
        "      if review['sentiment'] == 'POS' or (review['sentiment'] == 'NEG' and review['cv'] <= 909):\n",
        "        test_set.append(review)\n",
        "\n",
        "  return train_set, test_set\n",
        "\n",
        "\n",
        "# same as above\n",
        "train_set, test_set = split_data_imbalanced(reviews)\n",
        "vocab, log_prior_probs, log_cond_probs = train(train_set)\n",
        "accuracy = test(test_set, vocab, log_prior_probs, log_cond_probs)\n",
        "print(\"Accuracy: {:.2f}\".format(accuracy))"
      ]
    },
    {
      "cell_type": "markdown",
      "metadata": {
        "id": "6wJzcHX3WUDm"
      },
      "source": [
        "## Smoothing (1pt)\n",
        "\n",
        "As mentioned above, the presence of words in the test dataset that\n",
        "have not been seen during training can cause probabilities in the Naive\n",
        "Bayes classifier to be $0$, thus making that particular test instance\n",
        "undecidable. The standard way to mitigate this effect (as well as to\n",
        "give more clout to rare words) is to use smoothing, in which the\n",
        "probability fraction\n",
        "$$\\frac{\\text{count}(w_i, c)}{\\sum\\limits_{w\\in V} \\text{count}(w, c)}$$ for a word\n",
        "$w_i$ becomes\n",
        "$$\\frac{\\text{count}(w_i, c) + \\text{smoothing}(w_i)}{\\sum\\limits_{w\\in V} \\text{count}(w, c) + \\sum\\limits_{w \\in V} \\text{smoothing}(w)}$$\n",
        "\n",
        "\n",
        "\n"
      ]
    },
    {
      "cell_type": "markdown",
      "metadata": {
        "id": "PBNIcbwUWphC"
      },
      "source": [
        "#### (Q2.4) Implement Laplace feature smoothing (1pt)\n",
        "Implement Laplace smoothing, i.e., smoothing with a constant value ($smoothing(w) = \\kappa, \\forall w \\in V$), in your Naive\n",
        "Bayes classifier’s code, and report the accuracy.\n",
        "Use $\\kappa = 1$."
      ]
    },
    {
      "cell_type": "code",
      "execution_count": null,
      "metadata": {
        "colab": {
          "base_uri": "https://localhost:8080/"
        },
        "id": "g03yflCc9kpW",
        "outputId": "0e61f0e1-4efd-41f7-e45f-726401fa9fe5"
      },
      "outputs": [
        {
          "name": "stdout",
          "output_type": "stream",
          "text": [
            "Accuracy: 0.91\n"
          ]
        }
      ],
      "source": [
        "# YOUR CODE HERE\n",
        "\n",
        "# calculating conditional probs P(word|c) - with Laplace smoothing\n",
        "def calc_cond_probs(freqs, word_total, vocab):\n",
        "  cond_probs_POS = {}\n",
        "  cond_probs_NEG = {}\n",
        "\n",
        "  # Laplace smoothing\n",
        "  smoothing = 1\n",
        "  vocab_len = len(vocab)\n",
        "\n",
        "  for word in vocab:\n",
        "    # avoiding zero probabilities with laplace smoothing\n",
        "    word_freq_POS = freqs['POS'][word] + smoothing\n",
        "    word_freq_NEG = freqs['NEG'][word] + smoothing\n",
        "\n",
        "    cond_probs_POS[word] = math.log(word_freq_POS / (word_total['POS'] + smoothing * vocab_len))\n",
        "    cond_probs_NEG[word] = math.log(word_freq_NEG / (word_total['NEG'] + smoothing * vocab_len))\n",
        "\n",
        "  return cond_probs_POS, cond_probs_NEG\n",
        "\n",
        "# without class imbalance\n",
        "train_set, test_set = split_data(reviews)\n",
        "vocab, log_prior_probs, log_cond_probs = train(train_set)\n",
        "accuracy = test(test_set, vocab, log_prior_probs, log_cond_probs)\n",
        "print(\"Accuracy: {:.2f}\".format(accuracy))"
      ]
    },
    {
      "cell_type": "markdown",
      "metadata": {
        "id": "ZiGcgwba87D5"
      },
      "source": [
        "## Cross-Validation (1.5pts)\n",
        "\n",
        "A serious danger in using Machine Learning on small datasets, with many\n",
        "iterations of slightly different versions of the algorithms, is ending up with Type III errors, also called the “testing hypotheses\n",
        "suggested by the data” errors. This type of error occurs when we make\n",
        "repeated improvements to our classifiers by playing with features and\n",
        "their processing, but we don’t get a fresh, never-before seen test\n",
        "dataset every time. Thus, we risk developing a classifier that gets better\n",
        "and better on our data, but only gets worse at generalizing to new, unseen data. In other words, we risk developping a classifier that overfits.\n",
        "\n",
        "A simple method to guard against Type III errors is to use\n",
        "Cross-Validation. In **N-fold Cross-Validation**, we divide the data into N\n",
        "distinct chunks, or folds. Then, we repeat the experiment N times: each\n",
        "time holding out one of the folds for testing, training our classifier\n",
        "on the remaining N - 1 data folds, and reporting performance on the\n",
        "held-out fold. We can use different strategies for dividing the data:\n",
        "\n",
        "-   Consecutive splitting:\n",
        "  - cv000–cv099 = Split 1\n",
        "  - cv100–cv199 = Split 2\n",
        "  - etc.\n",
        "  \n",
        "-   Round-robin splitting (mod 10):\n",
        "  - cv000, cv010, cv020, … = Split 1\n",
        "  - cv001, cv011, cv021, … = Split 2\n",
        "  - etc.\n",
        "\n",
        "-   Random sampling/splitting\n",
        "  - Not used here (but you may choose to split this way in a non-educational situation)\n",
        "\n"
      ]
    },
    {
      "cell_type": "markdown",
      "metadata": {
        "id": "8OeLcbSauGtR"
      },
      "source": [
        "#### (Q2.5) Write the code to implement 10-fold cross-validation using round-robin splitting for your Naive Bayes classifier from Q2.4 and compute the 10 accuracies. Report the final performance, which is the average of the performances per fold. If all splits perform equally well, this is a good sign. (1pt)"
      ]
    },
    {
      "cell_type": "code",
      "execution_count": null,
      "metadata": {
        "colab": {
          "base_uri": "https://localhost:8080/"
        },
        "id": "q5il1Uwiy6r0",
        "outputId": "0c3aff09-a5db-46e7-a72c-96499d995b3d"
      },
      "outputs": [
        {
          "name": "stdout",
          "output_type": "stream",
          "text": [
            "accuracy - fold 1: 0.79\n",
            "accuracy - fold 2: 0.83\n",
            "accuracy - fold 3: 0.81\n",
            "accuracy - fold 4: 0.82\n",
            "accuracy - fold 5: 0.78\n",
            "accuracy - fold 6: 0.84\n",
            "accuracy - fold 7: 0.83\n",
            "accuracy - fold 8: 0.78\n",
            "accuracy - fold 9: 0.83\n",
            "accuracy - fold 10: 0.84\n",
            "Average Accuracy: 0.82\n"
          ]
        }
      ],
      "source": [
        "# YOUR CODE\n",
        "\n",
        "# splitting data with round-robin strategy\n",
        "def split_data_round_robin(reviews, fold, k=10):\n",
        "    train_set = []\n",
        "    test_set = []\n",
        "    for review in reviews:\n",
        "        if review['cv'] % k == fold:\n",
        "            test_set.append(review)\n",
        "        else:\n",
        "            train_set.append(review)\n",
        "\n",
        "    return train_set, test_set\n",
        "\n",
        "def cross_validate(reviews, k):\n",
        "  accuracies = []\n",
        "  for fold in range(k):\n",
        "    train_set, test_set = split_data_round_robin(reviews, fold, k)\n",
        "    vocab, log_prior_probs, log_cond_probs = train(train_set)\n",
        "    accuracy = test(test_set, vocab, log_prior_probs, log_cond_probs)\n",
        "    accuracies.append(accuracy)\n",
        "\n",
        "  # averaging across all folds\n",
        "  avg_acc = sum(accuracies) / k\n",
        "\n",
        "  return accuracies, avg_acc\n",
        "\n",
        "k = 10\n",
        "all_accuracies, avg_accuracy = cross_validate(reviews, k)\n",
        "\n",
        "# observe accuracy of all splits\n",
        "f = 1\n",
        "for acc in all_accuracies:\n",
        "  print(\"accuracy - fold {}: {:.2f}\".format(f, acc))\n",
        "  f += 1\n",
        "\n",
        "print(\"Average Accuracy: {:.2f}\".format(avg_accuracy))"
      ]
    },
    {
      "cell_type": "markdown",
      "metadata": {
        "id": "otdlsDXBNyOa"
      },
      "source": [
        "#### (Q2.6) Report the variance of the 10 accuracy scores. (0.5pt)\n",
        "\n",
        "**Please report all future results using 10-fold cross-validation now\n",
        "(unless told to use the held-out test set).** Note: you're not allowed to use a library for computing the variance."
      ]
    },
    {
      "cell_type": "code",
      "execution_count": null,
      "metadata": {
        "colab": {
          "base_uri": "https://localhost:8080/"
        },
        "id": "ZoBQm1KuNzNR",
        "outputId": "cb9129b7-6982-41d9-b4e8-effd8ca26ba9"
      },
      "outputs": [
        {
          "name": "stdout",
          "output_type": "stream",
          "text": [
            "Variance: 0.0006\n"
          ]
        }
      ],
      "source": [
        "# YOUR CODE HERE\n",
        "\n",
        "# computing variance using formula\n",
        "def calc_variance(accuracies, avg_acc, k):\n",
        "  sum_sqrd_diff = 0\n",
        "  for acc in accuracies:\n",
        "    sqrd_diff = (acc - avg_acc) ** 2\n",
        "    sum_sqrd_diff += sqrd_diff\n",
        "\n",
        "  var = sum_sqrd_diff / k\n",
        "\n",
        "  return var\n",
        "\n",
        "# updated cross validation - with variance evaluation\n",
        "def cross_validate(reviews, k):\n",
        "  accuracies = []\n",
        "  for fold in range(k):\n",
        "    train_set, test_set = split_data_round_robin(reviews, fold, k)\n",
        "    vocab, log_prior_probs, log_cond_probs = train(train_set)\n",
        "    accuracy = test(test_set, vocab, log_prior_probs, log_cond_probs)\n",
        "    accuracies.append(accuracy)\n",
        "\n",
        "  # averaging across all folds\n",
        "  avg_acc = sum(accuracies) / k\n",
        "\n",
        "  # computing variance\n",
        "  variance = calc_variance(accuracies, avg_acc, k)\n",
        "\n",
        "  return accuracies, avg_acc, variance\n",
        "\n",
        "all_accuracies, avg_accuracy, variance = cross_validate(reviews, k)\n",
        "print(\"Variance: {:.4f}\".format(variance))"
      ]
    },
    {
      "cell_type": "markdown",
      "metadata": {
        "id": "s6A2zX9_BRKm"
      },
      "source": [
        "## Features, overfitting, and the curse of dimensionality\n",
        "\n",
        "In the Bag-of-Words model, ideally we would like each distinct word in\n",
        "the text to be mapped to its own dimension in the output vector\n",
        "representation. However, real world text is messy, and we need to decide\n",
        "on what we consider to be a word. For example, is “`word`\" different\n",
        "from “`Word`\", from “`word`”, or from “`words`\"? Too strict a\n",
        "definition, and the number of features explodes, while our algorithm\n",
        "fails to learn anything generalisable. Too lax, and we risk destroying\n",
        "our learning signal. In the following section, you will learn about\n",
        "confronting the feature sparsity and the overfitting problems as they\n",
        "occur in NLP classification tasks."
      ]
    },
    {
      "cell_type": "markdown",
      "metadata": {
        "id": "EKK8FNt8VtcZ"
      },
      "source": [
        "### Stemming (1.5pts)\n",
        "\n",
        "To make your algorithm more robust, use stemming and hash different inflections of a word to the same feature in the BoW vector space. Please use the [Porter stemming\n",
        "    algorithm](http://www.nltk.org/howto/stem.html) from NLTK.\n",
        "\n"
      ]
    },
    {
      "cell_type": "code",
      "execution_count": null,
      "metadata": {
        "id": "NxtCul1IrBi_"
      },
      "outputs": [],
      "source": [
        "# YOUR CODE HERE\n",
        "\n",
        "from nltk.stem.porter import PorterStemmer\n",
        "\n",
        "# initialize globally\n",
        "stemmer = PorterStemmer()\n",
        "\n",
        "# updated classification - with stemmer\n",
        "def classify_reviews(review, cond_probs, prior_probs):\n",
        "  results = {'POS': prior_probs['POS'], 'NEG': prior_probs['NEG']}\n",
        "\n",
        "  # for each word in a new review, add the sum of the log probabs\n",
        "  for sentence in review['content']:\n",
        "    for token, post_tag in sentence:\n",
        "      # stem\n",
        "      word = stemmer.stem(token.lower())\n",
        "      # only add the log probs of word in it exists in both of the classes\n",
        "      if word in cond_probs['POS'] and word in cond_probs['NEG']:\n",
        "        results['POS'] += cond_probs['POS'].get(word, 0)\n",
        "        results['NEG'] += cond_probs['NEG'].get(word, 0)\n",
        "\n",
        "  # finding argmax of class\n",
        "  if results['POS'] > results['NEG']:\n",
        "    return 'POS'\n",
        "  else:\n",
        "    return 'NEG'\n",
        "\n",
        "# updated train - with stemmer\n",
        "def train(train_set):\n",
        "\n",
        "  # preprocessing and counting\n",
        "  vocab = set()\n",
        "  doc_class_count = {'POS': 0, 'NEG': 0}\n",
        "  word_class_count = {'POS': 0, 'NEG': 0}\n",
        "  word_freqs_class = {'POS': Counter(), 'NEG': Counter()}\n",
        "\n",
        "  for review in train_set:\n",
        "    doc_class_count[review['sentiment']] += 1\n",
        "    for sentence in review['content']:\n",
        "      for token, post_tag in sentence:\n",
        "        # stem\n",
        "        stemmed_word = stemmer.stem(token.lower())\n",
        "        vocab.add(stemmed_word)\n",
        "        word_freqs_class[review['sentiment']][stemmed_word] += 1\n",
        "        word_class_count[review['sentiment']] += 1\n",
        "\n",
        "  # calculating the prior probabilities\n",
        "  total_doc_count = sum(doc_class_count.values())\n",
        "  log_prior_probs = calc_prior_probs(doc_class_count, total_doc_count)\n",
        "\n",
        "  # calculating the conditional probabilities\n",
        "  log_cond_probs_POS, log_cond_probs_NEG = calc_cond_probs(word_freqs_class, word_class_count, vocab)\n",
        "  log_cond_probs = {'POS': log_cond_probs_POS, 'NEG': log_cond_probs_NEG}\n",
        "\n",
        "  return vocab, log_prior_probs, log_cond_probs"
      ]
    },
    {
      "cell_type": "markdown",
      "metadata": {
        "id": "6SrJ1BeLXTnk"
      },
      "source": [
        "#### (Q2.7): How does the performance of your classifier change when you use stemming on your training and test datasets? (1pt)\n",
        "Use cross-validation to evaluate the classifier.\n"
      ]
    },
    {
      "cell_type": "code",
      "execution_count": null,
      "metadata": {
        "colab": {
          "base_uri": "https://localhost:8080/"
        },
        "id": "gYqKBOiIrInT",
        "outputId": "fbfe3f0d-ab6a-4ced-995a-8f531b6901fb"
      },
      "outputs": [
        {
          "name": "stdout",
          "output_type": "stream",
          "text": [
            "Average Accuracy with stemming: 0.81\n",
            "Variance with stemming: 0.0007\n"
          ]
        }
      ],
      "source": [
        "# YOUR ANSWER HERE\n",
        "\n",
        "all_accuracies, avg_accuracy, variance = cross_validate(reviews, k)\n",
        "print(\"Average Accuracy with stemming: {:.2f}\".format(avg_accuracy))\n",
        "print(\"Variance with stemming: {:.4f}\".format(variance))"
      ]
    },
    {
      "cell_type": "markdown",
      "metadata": {
        "id": "JkDHVq_1XUVP"
      },
      "source": [
        "#### (Q2.8) What happens to the number of features (i.e., the size of the vocabulary) when using stemming as opposed to (Q2.4)? (0.5pt)\n",
        "Give actual numbers. You can use the held-out training set to determine these."
      ]
    },
    {
      "cell_type": "code",
      "execution_count": null,
      "metadata": {
        "colab": {
          "base_uri": "https://localhost:8080/"
        },
        "id": "MA3vee5-rJyy",
        "outputId": "8f50d0ce-11fe-4dca-d7d6-4e823d62749f"
      },
      "outputs": [
        {
          "name": "stdout",
          "output_type": "stream",
          "text": [
            "Vocabulary size without stemming: 34662\n",
            "Vocabulary size with stemming: 24639\n",
            "With stemming, the vocabulary size is reduced since words are transformed to their root form and this groups similar words together, decreasing the total number of unique words in the vocabulary.\n"
          ]
        }
      ],
      "source": [
        "# YOUR CODE HERE\n",
        "\n",
        "# updated train - with stemmer and reutrning vocab size\n",
        "def train(train_set, stemming=False):\n",
        "\n",
        "  # preprocessing and counting\n",
        "  vocab = set()\n",
        "  doc_class_count = {'POS': 0, 'NEG': 0}\n",
        "  word_class_count = {'POS': 0, 'NEG': 0}\n",
        "  word_freqs_class = {'POS': Counter(), 'NEG': Counter()}\n",
        "\n",
        "  for review in train_set:\n",
        "    doc_class_count[review['sentiment']] += 1\n",
        "    for sentence in review['content']:\n",
        "      for token, post_tag in sentence:\n",
        "        word = token.lower()\n",
        "        if stemming:\n",
        "          # stem\n",
        "          word = stemmer.stem(word)\n",
        "        vocab.add(word)\n",
        "        word_freqs_class[review['sentiment']][word] += 1\n",
        "        word_class_count[review['sentiment']] += 1\n",
        "\n",
        "  # calculating the prior probabilities\n",
        "  total_doc_count = sum(doc_class_count.values())\n",
        "  log_prior_probs = calc_prior_probs(doc_class_count, total_doc_count)\n",
        "\n",
        "  # calculating the conditional probabilities\n",
        "  log_cond_probs_POS, log_cond_probs_NEG = calc_cond_probs(word_freqs_class, word_class_count, vocab)\n",
        "  log_cond_probs = {'POS': log_cond_probs_POS, 'NEG': log_cond_probs_NEG}\n",
        "\n",
        "  return vocab, log_prior_probs, log_cond_probs, len(vocab)\n",
        "\n",
        "\n",
        "vocab, log_prior_probs, log_cond_probs, vocab_size_without_stemming = train(train_set)\n",
        "vocab, log_prior_probs, log_cond_probs, vocab_size_with_stemming = train(train_set, stemming=True)\n",
        "\n",
        "print(f\"Vocabulary size without stemming: {vocab_size_without_stemming}\")\n",
        "print(f\"Vocabulary size with stemming: {vocab_size_with_stemming}\")\n",
        "print(f\"With stemming, the vocabulary size is reduced since words \\\n",
        "are transformed to their root form and this groups similar words together, \\\n",
        "decreasing the total number of unique words in the vocabulary.\")\n"
      ]
    },
    {
      "cell_type": "markdown",
      "metadata": {
        "id": "SoazfxbNV5Lq"
      },
      "source": [
        "### N-grams (1.5pts)\n",
        "\n",
        "A simple way of retaining some of the word\n",
        "order information when using bag-of-words representations is to use **n-gram** features.\n",
        "\n",
        "\n",
        "\n",
        "\n"
      ]
    },
    {
      "cell_type": "markdown",
      "metadata": {
        "id": "OHjy3I7-qWiu"
      },
      "source": [
        "#### (Q2.9) Retrain your classifier from (Q2.4) using **unigrams+bigrams** and **unigrams+bigrams+trigrams** as features. (1pt)\n",
        "Report accuracy and compare it with that of the approaches you have previously implemented. You are allowed to use NLTK to build n-grams from sentences."
      ]
    },
    {
      "cell_type": "code",
      "execution_count": null,
      "metadata": {
        "id": "eYuKMTOpq9jz"
      },
      "outputs": [],
      "source": [
        "# YOUR CODE HERE\n",
        "\n",
        "from nltk.util import bigrams, trigrams\n",
        "from collections import Counter\n",
        "\n",
        "def create_ngrams(sentences, n):\n",
        "    ngrams_list = []\n",
        "    for sentence in sentences:\n",
        "        tokens = [token.lower() for token, pos_tag in sentence]\n",
        "\n",
        "        #start and end tokens for bigrams and trigrams\n",
        "        if n > 1:\n",
        "            tokens = ['<s>'] + tokens + ['</s>']\n",
        "\n",
        "        if n == 1:\n",
        "            ngrams_list.extend(tokens)\n",
        "        elif n == 2:\n",
        "            ngrams_list.extend([' '.join(gram) for gram in bigrams(tokens)])\n",
        "        elif n == 3:\n",
        "            ngrams_list.extend([' '.join(gram) for gram in trigrams(tokens)])\n",
        "\n",
        "    return ngrams_list\n",
        "\n",
        "\n",
        "\n",
        "def train_ngram(train_set, n):\n",
        "    vocab = set()\n",
        "    doc_class_count = {'POS': 0, 'NEG': 0}\n",
        "    word_class_count = {'POS': 0, 'NEG': 0}\n",
        "    word_freqs_class = {'POS': Counter(), 'NEG': Counter()}\n",
        "\n",
        "    for review in train_set:\n",
        "        doc_class_count[review['sentiment']] += 1\n",
        "        ngrams = create_ngrams(review['content'], n)\n",
        "        for gram in ngrams:\n",
        "            vocab.add(gram)\n",
        "            word_freqs_class[review['sentiment']][gram] += 1\n",
        "            word_class_count[review['sentiment']] += 1\n",
        "\n",
        "    # calculating prior probabilities\n",
        "    total_doc_count = sum(doc_class_count.values())\n",
        "    log_prior_probs = calc_prior_probs(doc_class_count, total_doc_count)\n",
        "\n",
        "    # calculating conditional probabilities\n",
        "    log_cond_probs_POS, log_cond_probs_NEG = calc_cond_probs(word_freqs_class, word_class_count, vocab)\n",
        "    log_cond_probs = {'POS': log_cond_probs_POS, 'NEG': log_cond_probs_NEG}\n",
        "\n",
        "    return vocab, log_prior_probs, log_cond_probs, len(vocab)\n",
        "\n",
        "def test_ngram(test_set, vocab, log_prior_probs, log_cond_probs, n):\n",
        "  preds_correct_count = 0\n",
        "\n",
        "  for review in test_set:\n",
        "      # n-grams for the review\n",
        "      ngrams = create_ngrams(review['content'], n)\n",
        "\n",
        "      # probabilities with prior probabilities\n",
        "      results = {'POS': log_prior_probs['POS'], 'NEG': log_prior_probs['NEG']}\n",
        "\n",
        "      #calculatin probabilities for each class based on the n-grams\n",
        "      for gram in ngrams:\n",
        "          if gram in vocab:\n",
        "              results['POS'] += log_cond_probs['POS'].get(gram, 0)\n",
        "              results['NEG'] += log_cond_probs['NEG'].get(gram, 0)\n",
        "\n",
        "      predicted_class = 'POS' if results['POS'] > results['NEG'] else 'NEG'\n",
        "      true_class = review['sentiment']\n",
        "\n",
        "      if predicted_class == true_class:\n",
        "          preds_correct_count += 1\n",
        "\n",
        "  accuracy = preds_correct_count / len(test_set)\n",
        "  return accuracy\n"
      ]
    },
    {
      "cell_type": "code",
      "execution_count": null,
      "metadata": {
        "colab": {
          "base_uri": "https://localhost:8080/"
        },
        "id": "0OPJ-4hKxnW9",
        "outputId": "90919eab-6bd2-42b3-8f93-2e6fcd289087"
      },
      "outputs": [
        {
          "name": "stdout",
          "output_type": "stream",
          "text": [
            "Accuracy with n-grams: 0.50\n"
          ]
        }
      ],
      "source": [
        "\n",
        "n = 3\n",
        "train_set, test_set = split_data(reviews)\n",
        "vocab, log_prior_probs, log_cond_probs,_ = train_ngram(train_set, n)\n",
        "accuracy = test(test_set, vocab, log_prior_probs, log_cond_probs)\n",
        "print(\"Accuracy with n-grams: {:.2f}\".format(accuracy))"
      ]
    },
    {
      "cell_type": "code",
      "execution_count": null,
      "metadata": {
        "colab": {
          "base_uri": "https://localhost:8080/"
        },
        "id": "tcbGkS0u5sBE",
        "outputId": "6c3c1000-3032-419f-d1fe-9485dbb414b8"
      },
      "outputs": [
        {
          "name": "stdout",
          "output_type": "stream",
          "text": [
            "Accuracy with n-grams: 0.50\n"
          ]
        }
      ],
      "source": [
        "\n",
        "n = 2\n",
        "train_set, test_set = split_data(reviews)\n",
        "vocab, log_prior_probs, log_cond_probs,_ = train_ngram(train_set, n)\n",
        "accuracy = test(test_set, vocab, log_prior_probs, log_cond_probs)\n",
        "print(\"Accuracy with n-grams: {:.2f}\".format(accuracy))"
      ]
    },
    {
      "cell_type": "markdown",
      "metadata": {
        "id": "HDSZnDtG5fVp"
      },
      "source": [
        "The bigram model uses a combination of unigrams and bigrams as features. The drop in accuracy compared to the unigram models is maybe because the addition of bigrams may have introduced too much complexity or sparsity into the model, going into overfitting to the test set. So, these n-grams might be causing the model to overfit to the training data. The same reason for the bigram model is for the trigram model."
      ]
    },
    {
      "cell_type": "markdown",
      "metadata": {
        "id": "dVrGGArkrWoL"
      },
      "source": [
        "\n",
        "#### Q2.10: How many features does the BoW model have to take into account now? (0.5pt)\n",
        "How would you expect the number of features to increase theoretically (e.g., linear, square, cubed, exponential)? How does this number compare, in practice, to the number of features at (Q2.8)?\n",
        "\n",
        "Use the held-out training set once again for this.\n"
      ]
    },
    {
      "cell_type": "markdown",
      "metadata": {
        "id": "yEGZ9SV8pPaa"
      },
      "source": [
        "*This substantial increase presented from unigrams, bigrams, trigrams in the number of features can lead to a \"curse of dimensionality\". This results in models that overfit the training data. Unigram with stemming to unigram without stemming, this increases because stemming reduces words to their root form. Unigram without stemming to bigrams around 12-fold increase,less than the squared increase that might be theoretically expected due to linguistic constraints cause not all possible word pairs occur in natural language. Bigrams to trigrams is over double, which is also less than the theoretical cubed increase maybe cause consecutive word triplets is constrained by grammar.*"
      ]
    },
    {
      "cell_type": "code",
      "execution_count": null,
      "metadata": {
        "colab": {
          "base_uri": "https://localhost:8080/"
        },
        "id": "_z8sAJeUrdtM",
        "outputId": "f459a423-cc59-4176-b7b3-448981d690de"
      },
      "outputs": [
        {
          "name": "stdout",
          "output_type": "stream",
          "text": [
            "Vocabulary size with unigrams: 45348\n",
            "Vocabulary size with bigrams: 424913\n",
            "Vocabulary size with trigrams: 915003\n"
          ]
        }
      ],
      "source": [
        "# YOUR CODE HERE\n",
        "\n",
        "\n",
        "\n",
        "_, _, _, vocab_size_unigrams = train_ngram(train_set, 1)\n",
        "_, _, _, vocab_size_bigrams = train_ngram(train_set, 2)\n",
        "_, _, _, vocab_size_trigrams = train_ngram(train_set, 3)\n",
        "\n",
        "print(f\"Vocabulary size with unigrams: {vocab_size_unigrams}\")\n",
        "print(f\"Vocabulary size with bigrams: {vocab_size_bigrams}\")\n",
        "print(f\"Vocabulary size with trigrams: {vocab_size_trigrams}\")\n"
      ]
    },
    {
      "cell_type": "markdown",
      "metadata": {
        "id": "CHWKDL3YV6vh"
      },
      "source": [
        "# (3) Support Vector Machines (4pts)"
      ]
    },
    {
      "cell_type": "markdown",
      "metadata": {
        "id": "hJSYhcVaoJGt"
      },
      "source": [
        "Though simple to understand, implement, and debug, one\n",
        "major problem with the Naive Bayes classifier is that its performance\n",
        "deteriorates (becomes skewed) when it is being used with features which\n",
        "are not independent (i.e., are correlated). Another popular classifier\n",
        "that doesn’t scale as well to big data, and is not as simple to debug as\n",
        "Naive Bayes, but that doesn’t assume feature independence is the Support\n",
        "Vector Machine (SVM) classifier.\n",
        "\n",
        "You can find more details about SVMs in Chapter 7 of Bishop: Pattern Recognition and Machine Learning.\n",
        "Other sources for learning SVM:\n",
        "* http://web.mit.edu/zoya/www/SVM.pdf\n",
        "* http://www.cs.columbia.edu/~kathy/cs4701/documents/jason_svm_tutorial.pdf\n",
        "* https://pythonprogramming.net/support-vector-machine-intro-machine-learning-tutorial/\n",
        "\n",
        "\n",
        "\n",
        "\n",
        "\n",
        "\n",
        "\n",
        "Use the scikit-learn implementation of\n",
        "[SVM](http://scikit-learn.org/stable/modules/svm.html) with the default parameters. (You are not expected to perform any hyperparameter tuning, but feel free to do it if you think it gives you good insights for the discussion in question 5.)\n",
        "\n"
      ]
    },
    {
      "cell_type": "markdown",
      "metadata": {
        "id": "0LnzNtQBV8gr"
      },
      "source": [
        "#### (Q3.1): Train SVM and compare to Naive Bayes (2pts)\n",
        "\n",
        "Train an SVM classifier (sklearn.svm.LinearSVC) using the features collected for Naive Bayes. Compare the\n",
        "classification performance of the SVM classifier to that of the Naive\n",
        "Bayes classifier with smoothing.\n",
        "Use cross-validation to evaluate the performance of the classifiers.\n",
        "\n"
      ]
    },
    {
      "cell_type": "code",
      "execution_count": null,
      "metadata": {
        "colab": {
          "base_uri": "https://localhost:8080/"
        },
        "id": "JBscui8Mvoz0",
        "outputId": "2ba7f9e7-6fda-41da-fef9-6b688502f8ee"
      },
      "outputs": [
        {
          "name": "stdout",
          "output_type": "stream",
          "text": [
            "Naive Bayes Average Accuracy: 0.8225000000000001\n",
            "SVM Average Accuracy: 0.8655000000000002\n"
          ]
        }
      ],
      "source": [
        "# YOUR CODE HERE\n",
        "\n",
        "from sklearn.feature_extraction.text import TfidfVectorizer\n",
        "from sklearn.svm import LinearSVC\n",
        "from sklearn.model_selection import cross_val_score\n",
        "from sklearn.naive_bayes import MultinomialNB\n",
        "from sklearn.pipeline import make_pipeline\n",
        "\n",
        "texts = [\" \".join([\" \".join(token for token, pos_tag in sentence) for sentence in review['content']]) for review in reviews]\n",
        "labels = [review['sentiment'] for review in reviews]\n",
        "\n",
        "# TF-IDF Vectorizer\n",
        "tfidf_vectorizer = TfidfVectorizer()\n",
        "\n",
        "# Naive Bayes Classifier Pipeline\n",
        "nb_pipeline = make_pipeline(tfidf_vectorizer, MultinomialNB())\n",
        "\n",
        "# SVM Classifier Pipeline\n",
        "svm_pipeline = make_pipeline(tfidf_vectorizer, LinearSVC())\n",
        "\n",
        "# cross-validation\n",
        "nb_scores = cross_val_score(nb_pipeline, texts, labels, cv=5)\n",
        "svm_scores = cross_val_score(svm_pipeline, texts, labels, cv=5)\n",
        "\n",
        "print(f\"Naive Bayes Average Accuracy: {nb_scores.mean()}\")\n",
        "print(f\"SVM Average Accuracy: {svm_scores.mean()}\")\n"
      ]
    },
    {
      "cell_type": "markdown",
      "metadata": {
        "id": "4PZ-3nGqCa9O"
      },
      "source": [
        "The improvement could be due to SVM's ability to handle the dependency between features better than Naive Bayes. SVM finds the optimal hyperplane that maximizes the margin between classes."
      ]
    },
    {
      "cell_type": "markdown",
      "metadata": {
        "id": "ifXVWcK0V9qY"
      },
      "source": [
        "### POS disambiguation (2pts)\n",
        "\n",
        "Now add in part-of-speech features. You will find the\n",
        "movie review dataset has already been POS-tagged for you ([here](https://catalog.ldc.upenn.edu/docs/LDC99T42/tagguid1.pdf) you find the tagset). Try to\n",
        "replicate the results obtained by Pang et al. (2002).\n",
        "\n"
      ]
    },
    {
      "cell_type": "markdown",
      "metadata": {
        "id": "xA3I82o4oWGu"
      },
      "source": [
        "####(Q3.2) Replace your features with word+POS features, and report performance with the SVM. Use cross-validation to evaluate the classifier and compare the results with (Q3.1). Does part-of-speech information help? Explain why this may be the case. (1pt)\n"
      ]
    },
    {
      "cell_type": "code",
      "execution_count": null,
      "metadata": {
        "colab": {
          "base_uri": "https://localhost:8080/"
        },
        "id": "NOvjYe-t2Br6",
        "outputId": "ced4f465-df4e-4878-df3e-1397f441c3c2"
      },
      "outputs": [
        {
          "name": "stdout",
          "output_type": "stream",
          "text": [
            "SVM Average Accuracy with POS features: 0.8615\n"
          ]
        }
      ],
      "source": [
        "# YOUR CODE HERE\n",
        "\n",
        "texts_with_pos = [\" \".join([f\"{token}_{pos_tag}\" for sentence in review['content'] for token, pos_tag in sentence]) for review in reviews]\n",
        "\n",
        "\n",
        "# SVM Classifier Pipeline with TF-IDF Vectorizer\n",
        "svm_pipeline_with_pos = make_pipeline(TfidfVectorizer(), LinearSVC())\n",
        "\n",
        "# cross-validation\n",
        "svm_scores_with_pos = cross_val_score(svm_pipeline_with_pos, texts_with_pos, labels, cv=5)\n",
        "\n",
        "print(f\"SVM Average Accuracy with POS features: {svm_scores_with_pos.mean()}\")\n"
      ]
    },
    {
      "cell_type": "markdown",
      "metadata": {
        "id": "L0dt_oQupUNe"
      },
      "source": [
        "*Accuracy slightly decreased when POS features were used compared to using just the words. In movie reviews, maybe the sentiment might be more related to specific words and their modifiers like adjectives or adverbs rather than the syntactic structure of the sentences.*"
      ]
    },
    {
      "cell_type": "markdown",
      "metadata": {
        "id": "Su-3w87eMW0w"
      },
      "source": [
        "#### (Q3.3) Discard all closed-class words from your data (keep only nouns, verbs, adjectives, and adverbs), and report performance. Does this help? Use cross-validation to evaluate the classifier and compare the results with (Q3.2). Are closed-class words detrimental to the classifier? Explain why this may be the case. (1pt)"
      ]
    },
    {
      "cell_type": "code",
      "execution_count": null,
      "metadata": {
        "colab": {
          "base_uri": "https://localhost:8080/"
        },
        "id": "CCUPlPozCYUX",
        "outputId": "98f1fa70-60a5-40e7-ba72-ed5ccd2a2e86"
      },
      "outputs": [
        {
          "name": "stdout",
          "output_type": "stream",
          "text": [
            "SVM Average Accuracy with filtered POS (open-class words only): 0.8560000000000001\n"
          ]
        }
      ],
      "source": [
        "# YOUR CODE HERE\n",
        "\n",
        "# keep only nouns, verbs, adjectives, and adverbs\n",
        "def is_open_class(tag):\n",
        "    return tag.startswith('NN') or tag.startswith('VB') or tag.startswith('JJ') or tag.startswith('RB')\n",
        "\n",
        "#texts list with filtered POS tags\n",
        "texts_filtered = [\" \".join([f\"{token}_{pos_tag}\" for sentence in review['content'] for token, pos_tag in sentence if is_open_class(pos_tag)]) for review in reviews]\n",
        "\n",
        "# SVM Classifier Pipeline with TF-IDF Vectorizer\n",
        "svm_pipeline_filtered = make_pipeline(TfidfVectorizer(), LinearSVC())\n",
        "\n",
        "#cross-validation\n",
        "svm_scores_filtered = cross_val_score(svm_pipeline_filtered, texts_filtered, labels, cv=5)\n",
        "\n",
        "print(f\"SVM Average Accuracy with filtered POS (open-class words only): {svm_scores_filtered.mean()}\")\n"
      ]
    },
    {
      "cell_type": "markdown",
      "metadata": {
        "id": "YaxCVrs8pWSp"
      },
      "source": [
        "**"
      ]
    },
    {
      "cell_type": "markdown",
      "metadata": {
        "id": "nfwqOciAl2No"
      },
      "source": [
        "# (4) Discussion (max. 500 words). (5pts)\n",
        "\n",
        "> Based on your experiments, what are the effective features and techniques in sentiment analysis? What information do different features encode?\n",
        "Why is this important? What are the limitations of these features and techniques?\n",
        "\n"
      ]
    },
    {
      "cell_type": "markdown",
      "metadata": {
        "id": "ZYuse5WLmekZ"
      },
      "source": [
        "*Based on the experiments conducted, sentiment is captured through different features and techniques, each with varying levels of effectiveness. The simplest and frequently most useful are unigrams. They pick out specific, sentiment-filled words that are powerful markers of either a positive or negative attitude. But they lack context.\n",
        "N-grams: By capturing word sequences, bigrams and trigrams are able to capture more context than unigrams. Useful to recognising phrases with a sentiment distinct from the words used alone. They do, however, expand the feature space, which can result in overfitting and sparsity. Part-of-Speech (POS) Tags: Using POS tags makes it easier to distinguish between the functions of words in sentences. Adverbs and adjectives, for instance, frequently convey strong sentiment signals. However, the results of the experiment suggested that POS tagging information might not greatly enhance performance, perhaps as a result of the complexity that is added. Open-Class Words: Theoretically, concentrating on nouns, verbs, adjectives, and adverbs aids in focusing on content words that have semantic meaning. Removing closed-class terms can remove important structural information. Stemming: By combining various word nuances, reducing words to their basic form can aid in the generalisation of sentiment analysis. However, it might also lose the nuanced sentiment variations that different word forms convey. In terms of limistations, Unigrams and N-grams: These features are sensitive to the dimensionality and sparsity of the feature space. POS Tags: is not good if the syntactic structure is less relevant to the sentiment. Stemming: under- or over-stemming can lead to ineffective generalisation. Open-Class Words: Eliminating closed-class words could leave out linguistic structural components that influence sentiment. Limitations come probably as the inability to capture sarcasm, idiomatic expressions, or context beyond local word patterns, so probably the need for more advanced models, incorporating syntactic parsing, semantic analysis, or deep learning, to understand the whole spectrum of sentiment expression.*\n"
      ]
    },
    {
      "cell_type": "markdown",
      "metadata": {
        "id": "iwaKwfWQhRk_"
      },
      "source": [
        "# Submission\n"
      ]
    },
    {
      "cell_type": "code",
      "execution_count": null,
      "metadata": {
        "id": "aOUeaET5ijk-"
      },
      "outputs": [],
      "source": [
        "# Write your names and student numbers here:\n",
        "# Ekin Fergan #12652954\n",
        "# Evelyn Pomasqui #12481440"
      ]
    },
    {
      "cell_type": "markdown",
      "metadata": {
        "id": "3A9K-H6Tii3X"
      },
      "source": [
        "**That's it!**\n",
        "\n",
        "- Check if you answered all questions fully and correctly.\n",
        "- Download your completed notebook using `File -> Download .ipynb`\n",
        "- Check if your answers are all included in the file you submit.\n",
        "- Submit your .ipynb file via *Canvas*. One submission per group."
      ]
    },
    {
      "cell_type": "code",
      "execution_count": null,
      "metadata": {
        "id": "YHslatYAKBrF"
      },
      "outputs": [],
      "source": []
    }
  ],
  "metadata": {
    "colab": {
      "provenance": []
    },
    "kernelspec": {
      "display_name": "Python 3",
      "name": "python3"
    }
  },
  "nbformat": 4,
  "nbformat_minor": 0
}